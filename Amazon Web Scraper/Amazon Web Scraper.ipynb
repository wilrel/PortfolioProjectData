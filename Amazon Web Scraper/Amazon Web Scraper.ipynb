{
 "cells": [
  {
   "cell_type": "code",
   "execution_count": 4,
   "id": "78a63869-173f-4270-97c7-d1e028fbeedc",
   "metadata": {},
   "outputs": [],
   "source": [
    "#Import Libraries\n",
    "\n",
    "from bs4 import BeautifulSoup\n",
    "import requests\n",
    "import time\n",
    "import datetime\n",
    "\n",
    "import smtplib"
   ]
  },
  {
   "cell_type": "code",
   "execution_count": 36,
   "id": "88a33b16-2eae-427e-a033-148e579a585c",
   "metadata": {},
   "outputs": [
    {
     "name": "stdout",
     "output_type": "stream",
     "text": [
      "Judul Produk: Sceptre 32-inch Curved Gaming Monitor Overdrive up to 240Hz DisplayPort 165Hz 144Hz HDMI AMD FreeSync Build-in Speakers, Machine Black (C325B-185RD)\n",
      "Harga Produk: 179.97\n"
     ]
    }
   ],
   "source": [
    "#Connect to website\n",
    "URL= 'https://www.amazon.com/Sceptre-DisplayPort-FreeSync-Speakers-C325B-185RD/dp/B082GTFJB5?pd_rd_w=EdUy9&content-id=amzn1.sym.cd152278-debd-42b9-91b9-6f271389fda7&pf_rd_p=cd152278-debd-42b9-91b9-6f271389fda7&pf_rd_r=5Q9VX3TSKX25W827PC38&pd_rd_wg=iz0yx&pd_rd_r=f3b1ffe2-df4c-480e-9a3a-5088e9f00845&pd_rd_i=B082GTFJB5&th=1'\n",
    "\n",
    "headers = {\"User-Agent\": \"Mozilla/5.0 (Windows NT 10.0; Win64; x64) AppleWebKit/537.36 (KHTML, like Gecko) Chrome/133.0.0.0 Safari/537.36 Edg/133.0.0.0\",\"Accept-Encoding\": \"gzip, deflate, br, zstd\",\"Accept\": \"text/html,application/xhtml+xml,application/xml;q=0.9,image/avif,image/webp,image/apng,*/*;q=0.8,application/signed-exchange;v=b3;q=0.7\",\"Upgrade-Insecure-Requests\": \"1\"}\n",
    "\n",
    "page = requests.get(URL, headers=headers)\n",
    "\n",
    "soup1 = BeautifulSoup(page.content, \"html.parser\")\n",
    "\n",
    "soup2 = BeautifulSoup(soup1.prettify(), \"html.parser\")\n",
    "\n",
    "\n",
    "# print(soup2)\n",
    "\n",
    "# Cari judul produk\n",
    "title = soup2.find(id='productTitle').get_text().strip()\n",
    "\n",
    "# Cari harga produk\n",
    "price_whole = soup2.find('span', {'class': 'a-price-whole'}).get_text().strip()\n",
    "price_fraction = soup2.find('span', {'class': 'a-price-fraction'}).get_text().strip()\n",
    "\n",
    "# Bersihkan harga\n",
    "price_whole = price_whole.replace('\\n', '').replace(' ', '')\n",
    "price_fraction = price_fraction.replace('\\n', '').replace(' ', '')\n",
    "\n",
    "# Gabungkan whole dan fraction\n",
    "price = f\"{price_whole}{price_fraction}\"\n",
    "\n",
    "# Tampilkan hasil\n",
    "print(\"Judul Produk:\", title)\n",
    "print(\"Harga Produk:\", price)"
   ]
  },
  {
   "cell_type": "code",
   "execution_count": 39,
   "id": "dfd78ff1-377a-457d-bc94-795691e6e9e0",
   "metadata": {},
   "outputs": [
    {
     "name": "stdout",
     "output_type": "stream",
     "text": [
      "2025-02-26\n"
     ]
    }
   ],
   "source": [
    "import datetime\n",
    "\n",
    "today = datetime.date.today()\n",
    "print(today)"
   ]
  },
  {
   "cell_type": "code",
   "execution_count": 41,
   "id": "5a640e75-aa81-46b6-8a8b-b862c57ca4a6",
   "metadata": {
    "scrolled": true
   },
   "outputs": [],
   "source": [
    "import csv\n",
    "\n",
    "header = ['Title', 'Price', 'Date']\n",
    "data = [title,price, today]\n",
    "\n",
    "# with open('AmazonWebScraperDataset.csv', 'w', newline='', encoding='UTF8') as f:\n",
    "    # writer = csv.writer(f)\n",
    "    # writer.writerow(header)\n",
    "    # writer.writerow(data)"
   ]
  },
  {
   "cell_type": "code",
   "execution_count": 52,
   "id": "d73b0628-3dba-43d6-a73a-a69f7d4609d1",
   "metadata": {},
   "outputs": [
    {
     "name": "stdout",
     "output_type": "stream",
     "text": [
      "                                               Title   Price        Date\n",
      "0  Sceptre 32-inch Curved Gaming Monitor Overdriv...  179.97  2025-02-26\n",
      "1  Sceptre 32-inch Curved Gaming Monitor Overdriv...  179.97  2025-02-26\n",
      "2  Sceptre 32-inch Curved Gaming Monitor Overdriv...  179.97  2025-02-26\n",
      "3  Sceptre 32-inch Curved Gaming Monitor Overdriv...  179.97  2025-02-26\n",
      "4  Sceptre 32-inch Curved Gaming Monitor Overdriv...  179.97  2025-02-26\n"
     ]
    }
   ],
   "source": [
    "import pandas as pd\n",
    "\n",
    "df = pd.read_csv(r\"C:\\Users\\Administrator\\Downloads\\Analyst\\AmazonWebScraperDataset.csv\")\n",
    "print(df)"
   ]
  },
  {
   "cell_type": "code",
   "execution_count": 51,
   "id": "44edbf7e-f783-49c3-acb4-820a7f417f79",
   "metadata": {},
   "outputs": [],
   "source": [
    "#Menambah Data Ke CSV\n",
    "with open('AmazonWebScraperDataset.csv', 'a+', newline='', encoding='UTF8') as f:\n",
    "    writer = csv.writer(f)\n",
    "    writer.writerow(data)"
   ]
  },
  {
   "cell_type": "code",
   "execution_count": 55,
   "id": "7d815ac0-8896-4104-a922-0db367beac23",
   "metadata": {},
   "outputs": [],
   "source": [
    "def check_price():\n",
    "    URL= 'https://www.amazon.com/Sceptre-DisplayPort-FreeSync-Speakers-C325B-185RD/dp/B082GTFJB5?pd_rd_w=EdUy9&content-id=amzn1.sym.cd152278-debd-42b9-91b9-6f271389fda7&pf_rd_p=cd152278-debd-42b9-91b9-6f271389fda7&pf_rd_r=5Q9VX3TSKX25W827PC38&pd_rd_wg=iz0yx&pd_rd_r=f3b1ffe2-df4c-480e-9a3a-5088e9f00845&pd_rd_i=B082GTFJB5&th=1'\n",
    "\n",
    "    headers = {\"User-Agent\": \"Mozilla/5.0 (Windows NT 10.0; Win64; x64) AppleWebKit/537.36 (KHTML, like Gecko) Chrome/133.0.0.0 Safari/537.36 Edg/133.0.0.0\",\"Accept-Encoding\": \"gzip, deflate, br, zstd\",\"Accept\": \"text/html,application/xhtml+xml,application/xml;q=0.9,image/avif,image/webp,image/apng,*/*;q=0.8,application/signed-exchange;v=b3;q=0.7\",\"Upgrade-Insecure-Requests\": \"1\"}\n",
    "\n",
    "    page = requests.get(URL, headers=headers)\n",
    "\n",
    "    soup1 = BeautifulSoup(page.content, \"html.parser\")\n",
    "\n",
    "    soup2 = BeautifulSoup(soup1.prettify(), \"html.parser\")\n",
    "\n",
    "\n",
    "    # print(soup2)\n",
    "\n",
    "    # Cari judul produk\n",
    "    title = soup2.find(id='productTitle').get_text().strip()\n",
    "\n",
    "    # Cari harga produk\n",
    "    price_whole = soup2.find('span', {'class': 'a-price-whole'}).get_text().strip()\n",
    "    price_fraction = soup2.find('span', {'class': 'a-price-fraction'}).get_text().strip()\n",
    "\n",
    "    # Bersihkan harga\n",
    "    price_whole = price_whole.replace('\\n', '').replace(' ', '')\n",
    "    price_fraction = price_fraction.replace('\\n', '').replace(' ', '')\n",
    "\n",
    "    # Gabungkan whole dan fraction\n",
    "    price = f\"{price_whole}{price_fraction}\"\n",
    "\n",
    "    import datetime\n",
    "\n",
    "    today = datetime.date.today()\n",
    "\n",
    "    import csv\n",
    "    \n",
    "    header = ['Title', 'Price', 'Date']\n",
    "    data = [title,price, today]\n",
    "\n",
    "    with open('AmazonWebScraperDataset.csv', 'a+', newline='', encoding='UTF8') as f:\n",
    "        writer = csv.writer(f)\n",
    "        writer.writerow(data)"
   ]
  },
  {
   "cell_type": "code",
   "execution_count": null,
   "id": "6be88f6b-900c-4772-b3ac-a231435facc4",
   "metadata": {},
   "outputs": [],
   "source": [
    "while(True):\n",
    "    check_price()\n",
    "    time.sleep(86400)"
   ]
  },
  {
   "cell_type": "code",
   "execution_count": 53,
   "id": "1a869bb7-4a45-46f4-800d-aecd9b1ca29f",
   "metadata": {},
   "outputs": [
    {
     "name": "stdout",
     "output_type": "stream",
     "text": [
      "                                               Title   Price        Date\n",
      "0  Sceptre 32-inch Curved Gaming Monitor Overdriv...  179.97  2025-02-26\n",
      "1  Sceptre 32-inch Curved Gaming Monitor Overdriv...  179.97  2025-02-26\n",
      "2  Sceptre 32-inch Curved Gaming Monitor Overdriv...  179.97  2025-02-26\n",
      "3  Sceptre 32-inch Curved Gaming Monitor Overdriv...  179.97  2025-02-26\n",
      "4  Sceptre 32-inch Curved Gaming Monitor Overdriv...  179.97  2025-02-26\n"
     ]
    }
   ],
   "source": [
    "import pandas as pd\n",
    "\n",
    "df = pd.read_csv(r\"C:\\Users\\Administrator\\Downloads\\Analyst\\AmazonWebScraperDataset.csv\")\n",
    "print(df)"
   ]
  },
  {
   "cell_type": "code",
   "execution_count": null,
   "id": "71bdec8e-af66-4742-a431-1c1b7aa5d3c0",
   "metadata": {},
   "outputs": [],
   "source": [
    "# Kirim Ke Email Sendiri\n",
    "# \n",
    "\n",
    "def send_mail():\n",
    "    server = smtplib.SMTP_SSL('smtp.gmail.com',465)\n",
    "    server.ehlo()\n",
    "    #server.starttls()\n",
    "    server.ehlo()\n",
    "    server.login('ygsasd@gmail.com','xxxxxxxxxxxxxx')\n",
    "    \n",
    "    subject = \"Belilah Ini!\"\n",
    "    body = \"Asep, Belilah Ini\"\n",
    "   \n",
    "    msg = f\"Subject: {subject}\\n\\n{body}\"\n",
    "    \n",
    "    server.sendmail(\n",
    "        'ygsasd@gmail.com',\n",
    "        msg\n",
    "     \n",
    "    )"
   ]
  },
  {
   "cell_type": "code",
   "execution_count": null,
   "id": "8cf0c3d5-f927-45fb-ab10-cb02a9cee1c2",
   "metadata": {},
   "outputs": [],
   "source": []
  }
 ],
 "metadata": {
  "kernelspec": {
   "display_name": "Python 3 (ipykernel)",
   "language": "python",
   "name": "python3"
  },
  "language_info": {
   "codemirror_mode": {
    "name": "ipython",
    "version": 3
   },
   "file_extension": ".py",
   "mimetype": "text/x-python",
   "name": "python",
   "nbconvert_exporter": "python",
   "pygments_lexer": "ipython3",
   "version": "3.11.7"
  }
 },
 "nbformat": 4,
 "nbformat_minor": 5
}
